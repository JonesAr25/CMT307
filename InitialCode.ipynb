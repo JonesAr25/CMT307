{
 "cells": [
  {
   "cell_type": "code",
   "execution_count": 77,
   "metadata": {},
   "outputs": [],
   "source": [
    "import yfinance as yf\n",
    "import pylab as plt"
   ]
  },
  {
   "cell_type": "code",
   "execution_count": 108,
   "metadata": {},
   "outputs": [
    {
     "name": "stdout",
     "output_type": "stream",
     "text": [
      "[*********************100%***********************]  1 of 1 completed\n",
      "[*********************100%***********************]  1 of 1 completed\n"
     ]
    }
   ],
   "source": [
    "FTSE = yf.download(\"^FTSE\")\n",
    "FTSETicker = yf.Ticker(\"^FTSE\")\n",
    "SP500 = yf.download(\"^GSPC\")\n",
    "SP500Ticker = yf.Ticker(\"^GSPC\")\n",
    "\n",
    "#Everything on the stockmarket is free-game. Just find their code and use the code\n",
    "#above it import it. Examples of the FTSE 100 and S&P500 are used."
   ]
  },
  {
   "cell_type": "code",
   "execution_count": 109,
   "metadata": {},
   "outputs": [
    {
     "data": {
      "text/plain": [
       "<bound method DataFrame.info of                    Open         High          Low        Close    Adj Close  \\\n",
       "Date                                                                          \n",
       "1984-01-03   997.500000  1001.400024   997.500000   997.500000   997.500000   \n",
       "1984-01-04   997.500000   999.500000   993.299988   998.599976   998.599976   \n",
       "1984-01-05  1007.099976  1015.799988  1007.099976  1015.799988  1015.799988   \n",
       "1984-01-06  1019.000000  1029.300049  1019.000000  1029.000000  1029.000000   \n",
       "1984-01-09  1030.599976  1035.400024  1030.599976  1034.599976  1034.599976   \n",
       "...                 ...          ...          ...          ...          ...   \n",
       "2022-03-29  7473.100098  7584.100098  7473.100098  7537.299805  7537.299805   \n",
       "2022-03-30  7537.299805  7578.799805  7523.799805  7578.799805  7578.799805   \n",
       "2022-03-31  7578.799805  7595.399902  7515.700195  7515.700195  7515.700195   \n",
       "2022-04-01  7515.700195  7552.500000  7508.899902  7537.899902  7537.899902   \n",
       "2022-04-04  7537.899902  7574.330078  7532.339844  7562.500000  7562.500000   \n",
       "\n",
       "                Volume  \n",
       "Date                    \n",
       "1984-01-03           0  \n",
       "1984-01-04           0  \n",
       "1984-01-05           0  \n",
       "1984-01-06           0  \n",
       "1984-01-09           0  \n",
       "...                ...  \n",
       "2022-03-29  1172893900  \n",
       "2022-03-30  1036020900  \n",
       "2022-03-31   925410900  \n",
       "2022-04-01   811395500  \n",
       "2022-04-04           0  \n",
       "\n",
       "[9666 rows x 6 columns]>"
      ]
     },
     "execution_count": 109,
     "metadata": {},
     "output_type": "execute_result"
    }
   ],
   "source": [
    "FTSE.info"
   ]
  },
  {
   "cell_type": "code",
   "execution_count": 110,
   "metadata": {
    "scrolled": true
   },
   "outputs": [
    {
     "data": {
      "text/plain": [
       "{'exchange': 'FGI',\n",
       " 'shortName': 'FTSE 100',\n",
       " 'exchangeTimezoneName': 'Europe/London',\n",
       " 'exchangeTimezoneShortName': 'BST',\n",
       " 'isEsgPopulated': False,\n",
       " 'gmtOffSetMilliseconds': '3600000',\n",
       " 'quoteType': 'INDEX',\n",
       " 'symbol': '^FTSE',\n",
       " 'messageBoardId': 'finmb_INDEXFTSE',\n",
       " 'market': 'gb_market',\n",
       " 'previousClose': 7537.9,\n",
       " 'regularMarketOpen': 7537.9,\n",
       " 'twoHundredDayAverage': 7248.197,\n",
       " 'trailingAnnualDividendYield': None,\n",
       " 'payoutRatio': None,\n",
       " 'volume24Hr': None,\n",
       " 'regularMarketDayHigh': 7574.33,\n",
       " 'navPrice': None,\n",
       " 'averageDailyVolume10Day': 901784410,\n",
       " 'totalAssets': None,\n",
       " 'regularMarketPreviousClose': 7537.9,\n",
       " 'fiftyDayAverage': 7422.21,\n",
       " 'trailingAnnualDividendRate': None,\n",
       " 'open': 7537.9,\n",
       " 'toCurrency': None,\n",
       " 'averageVolume10days': 901784410,\n",
       " 'expireDate': None,\n",
       " 'yield': None,\n",
       " 'algorithm': None,\n",
       " 'dividendRate': None,\n",
       " 'exDividendDate': None,\n",
       " 'beta': None,\n",
       " 'circulatingSupply': None,\n",
       " 'startDate': None,\n",
       " 'regularMarketDayLow': 7532.34,\n",
       " 'priceHint': 2,\n",
       " 'currency': 'GBP',\n",
       " 'regularMarketVolume': 0,\n",
       " 'lastMarket': None,\n",
       " 'maxSupply': None,\n",
       " 'openInterest': None,\n",
       " 'marketCap': None,\n",
       " 'volumeAllCurrencies': None,\n",
       " 'strikePrice': None,\n",
       " 'averageVolume': 1036099611,\n",
       " 'priceToSalesTrailing12Months': None,\n",
       " 'dayLow': 7532.34,\n",
       " 'ask': 0,\n",
       " 'ytdReturn': None,\n",
       " 'askSize': 0,\n",
       " 'volume': 0,\n",
       " 'fiftyTwoWeekHigh': 7687.3,\n",
       " 'forwardPE': None,\n",
       " 'maxAge': 1,\n",
       " 'fromCurrency': None,\n",
       " 'fiveYearAvgDividendYield': None,\n",
       " 'fiftyTwoWeekLow': 6737.3,\n",
       " 'bid': 0,\n",
       " 'tradeable': False,\n",
       " 'dividendYield': None,\n",
       " 'bidSize': 0,\n",
       " 'dayHigh': 7574.33,\n",
       " 'regularMarketPrice': 7562.46,\n",
       " 'preMarketPrice': None,\n",
       " 'logo_url': ''}"
      ]
     },
     "execution_count": 110,
     "metadata": {},
     "output_type": "execute_result"
    }
   ],
   "source": [
    "FTSETicker.info"
   ]
  },
  {
   "cell_type": "code",
   "execution_count": 111,
   "metadata": {},
   "outputs": [
    {
     "data": {
      "text/plain": [
       "<bound method DataFrame.info of                    Open         High          Low        Close    Adj Close  \\\n",
       "Date                                                                          \n",
       "1950-01-03    16.660000    16.660000    16.660000    16.660000    16.660000   \n",
       "1950-01-04    16.850000    16.850000    16.850000    16.850000    16.850000   \n",
       "1950-01-05    16.930000    16.930000    16.930000    16.930000    16.930000   \n",
       "1950-01-06    16.980000    16.980000    16.980000    16.980000    16.980000   \n",
       "1950-01-09    17.080000    17.080000    17.080000    17.080000    17.080000   \n",
       "...                 ...          ...          ...          ...          ...   \n",
       "2022-03-29  4602.859863  4637.299805  4589.660156  4631.600098  4631.600098   \n",
       "2022-03-30  4624.200195  4627.770020  4581.319824  4602.450195  4602.450195   \n",
       "2022-03-31  4599.020020  4603.069824  4530.410156  4530.410156  4530.410156   \n",
       "2022-04-01  4540.319824  4548.700195  4507.569824  4545.859863  4545.859863   \n",
       "2022-04-04  4547.970215  4568.680176  4539.209961  4565.959961  4565.959961   \n",
       "\n",
       "                Volume  \n",
       "Date                    \n",
       "1950-01-03     1260000  \n",
       "1950-01-04     1890000  \n",
       "1950-01-05     2550000  \n",
       "1950-01-06     2010000  \n",
       "1950-01-09     2520000  \n",
       "...                ...  \n",
       "2022-03-29  4239660000  \n",
       "2022-03-30  3665390000  \n",
       "2022-03-31  3782040000  \n",
       "2022-04-01  3828290000  \n",
       "2022-04-04   779795964  \n",
       "\n",
       "[18182 rows x 6 columns]>"
      ]
     },
     "execution_count": 111,
     "metadata": {},
     "output_type": "execute_result"
    }
   ],
   "source": [
    "SP500.info"
   ]
  },
  {
   "cell_type": "code",
   "execution_count": 112,
   "metadata": {
    "scrolled": true
   },
   "outputs": [
    {
     "data": {
      "text/plain": [
       "{'exchange': 'SNP',\n",
       " 'shortName': 'S&P 500',\n",
       " 'exchangeTimezoneName': 'America/New_York',\n",
       " 'exchangeTimezoneShortName': 'EDT',\n",
       " 'isEsgPopulated': False,\n",
       " 'gmtOffSetMilliseconds': '-14400000',\n",
       " 'quoteType': 'INDEX',\n",
       " 'symbol': '^GSPC',\n",
       " 'messageBoardId': 'finmb_INDEXGSPC',\n",
       " 'market': 'us_market',\n",
       " 'previousClose': 4545.86,\n",
       " 'regularMarketOpen': 4547.97,\n",
       " 'twoHundredDayAverage': 4485.6406,\n",
       " 'trailingAnnualDividendYield': None,\n",
       " 'payoutRatio': None,\n",
       " 'volume24Hr': None,\n",
       " 'regularMarketDayHigh': 4568.68,\n",
       " 'navPrice': None,\n",
       " 'averageDailyVolume10Day': 3830147000,\n",
       " 'totalAssets': None,\n",
       " 'regularMarketPreviousClose': 4545.86,\n",
       " 'fiftyDayAverage': 4412.339,\n",
       " 'trailingAnnualDividendRate': None,\n",
       " 'open': 4547.97,\n",
       " 'toCurrency': None,\n",
       " 'averageVolume10days': 3830147000,\n",
       " 'expireDate': None,\n",
       " 'yield': None,\n",
       " 'algorithm': None,\n",
       " 'dividendRate': None,\n",
       " 'exDividendDate': None,\n",
       " 'beta': None,\n",
       " 'circulatingSupply': None,\n",
       " 'startDate': None,\n",
       " 'regularMarketDayLow': 4539.21,\n",
       " 'priceHint': 2,\n",
       " 'currency': 'USD',\n",
       " 'regularMarketVolume': 780244249,\n",
       " 'lastMarket': None,\n",
       " 'maxSupply': None,\n",
       " 'openInterest': None,\n",
       " 'marketCap': None,\n",
       " 'volumeAllCurrencies': None,\n",
       " 'strikePrice': None,\n",
       " 'averageVolume': 4013731147,\n",
       " 'priceToSalesTrailing12Months': None,\n",
       " 'dayLow': 4539.21,\n",
       " 'ask': 4566.57,\n",
       " 'ytdReturn': None,\n",
       " 'askSize': 0,\n",
       " 'volume': 780244249,\n",
       " 'fiftyTwoWeekHigh': 4818.62,\n",
       " 'forwardPE': None,\n",
       " 'maxAge': 1,\n",
       " 'fromCurrency': None,\n",
       " 'fiveYearAvgDividendYield': None,\n",
       " 'fiftyTwoWeekLow': 4034.44,\n",
       " 'bid': 4564.57,\n",
       " 'tradeable': False,\n",
       " 'dividendYield': None,\n",
       " 'bidSize': 0,\n",
       " 'dayHigh': 4568.68,\n",
       " 'regularMarketPrice': 4565.99,\n",
       " 'preMarketPrice': None,\n",
       " 'logo_url': ''}"
      ]
     },
     "execution_count": 112,
     "metadata": {},
     "output_type": "execute_result"
    }
   ],
   "source": [
    "SP500Ticker.info"
   ]
  },
  {
   "cell_type": "code",
   "execution_count": 122,
   "metadata": {},
   "outputs": [
    {
     "data": {
      "text/plain": [
       "<matplotlib.axes._subplots.AxesSubplot at 0x7f7890af6240>"
      ]
     },
     "execution_count": 122,
     "metadata": {},
     "output_type": "execute_result"
    },
    {
     "data": {
      "image/png": "[encoded data removed]",
      "text/plain": [
       "<Figure size 432x288 with 1 Axes>"
      ]
     },
     "metadata": {
      "needs_background": "light"
     },
     "output_type": "display_data"
    }
   ],
   "source": [
    "FTSEHigh = FTSE[\"High\"]\n",
    "FTSELow = FTSE[\"Low\"]\n",
    "FTSEVol = FTSE[\"Volume\"]\n",
    "FTSEOpen = FTSE[\"Open\"]\n",
    "FTSEClose = FTSE[\"Close\"]\n",
    "FTSEHigh.plot(color = \"k\",linestyle = \"dashdot\")\n",
    "# FTSELow.plot(color = \"orange\", linestyle = \"dotted\")\n",
    "# FTSEVol.plot(color = \"Blue\", linestyle = \"solid\")\n",
    "# FTSEOpen.plot(color = \"green\",linestyle = \"dashdot\")\n",
    "# FTSEClose.plot(color = \"magenta\",linestyle = \"solid\")"
   ]
  },
  {
   "cell_type": "code",
   "execution_count": 123,
   "metadata": {},
   "outputs": [
    {
     "data": {
      "text/plain": [
       "<matplotlib.axes._subplots.AxesSubplot at 0x7f7890a3b278>"
      ]
     },
     "execution_count": 123,
     "metadata": {},
     "output_type": "execute_result"
    },
    {
     "data": {
      "image/png": "[encoded data removed]",
      "text/plain": [
       "<Figure size 432x288 with 1 Axes>"
      ]
     },
     "metadata": {
      "needs_background": "light"
     },
     "output_type": "display_data"
    }
   ],
   "source": [
    "SP500High = SP500[\"High\"]\n",
    "SP500Low = SP500[\"Low\"]\n",
    "SP500Vol = FTSE[\"Volume\"]\n",
    "SP500Open = FTSE[\"Open\"]\n",
    "SP500Close = FTSE[\"Close\"]\n",
    "\n",
    "SP500High.plot(color = \"k\",linestyle = \"dashdot\")\n",
    "# SP500Low.plot(color = \"orange\", linestyle = \"dotted\")\n",
    "# SP500Vol.plot(color = \"Blue\", linestyle = \"solid\")\n",
    "# SP500Open.plot(color = \"green\",linestyle = \"dashdot\")\n",
    "# SP500Close.plot(color = \"magenta\",linestyle = \"solid\")"
   ]
  },
  {
   "cell_type": "code",
   "execution_count": null,
   "metadata": {},
   "outputs": [],
   "source": []
  }
 ],
 "metadata": {
  "kernelspec": {
   "display_name": "Python 3",
   "language": "python",
   "name": "python3"
  },
  "language_info": {
   "codemirror_mode": {
    "name": "ipython",
    "version": 3
   },
   "file_extension": ".py",
   "mimetype": "text/x-python",
   "name": "python",
   "nbconvert_exporter": "python",
   "pygments_lexer": "ipython3",
   "version": "3.6.8"
  }
 },
 "nbformat": 4,
 "nbformat_minor": 2
}
