{
 "cells": [
  {
   "cell_type": "code",
   "execution_count": 69,
   "metadata": {},
   "outputs": [],
   "source": [
    "import yfinance as yf\n",
    "import pylab as plt\n",
    "import pandas as pd\n",
    "import seaborn as sns\n",
    "import numpy as np"
   ]
  },
  {
   "cell_type": "code",
   "execution_count": 114,
   "metadata": {},
   "outputs": [
    {
     "name": "stdout",
     "output_type": "stream",
     "text": [
      "Date             0\n",
      "Open             0\n",
      "High             0\n",
      "Low              0\n",
      "Close            0\n",
      "Volume           0\n",
      "MA 50            0\n",
      "EMA 50           0\n",
      "MA 200           0\n",
      "EMA 200          0\n",
      "RSI 14           0\n",
      "STOCH K          0\n",
      "STOCH D          0\n",
      "MACD VALUE       0\n",
      "SIG LINE         0\n",
      "MACD HIST        0\n",
      "BB UP            0\n",
      "BB MID           0\n",
      "BB DOWN          0\n",
      "ADX              0\n",
      "PRICE_CHANGE     1\n",
      "close_to_open    0\n",
      "return           0\n",
      "dtype: int64\n",
      "         Date      Open      High       Low     Close    Volume     MA 50  \\\n",
      "0  1986-12-24  0.108284  0.108284  0.107738  0.108011   7027200  0.096329   \n",
      "1  1986-12-26  0.108011  0.108831  0.107738  0.107738   3715200  0.096953   \n",
      "2  1986-12-29  0.107738  0.108831  0.103363  0.103363  41702400  0.097489   \n",
      "3  1986-12-30  0.103363  0.105003  0.102268  0.104456  25401600  0.098003   \n",
      "4  1986-12-31  0.104457  0.107191  0.104457  0.105550  23356800  0.098528   \n",
      "\n",
      "     EMA 50    MA 200   EMA 200  ...  MACD VALUE  SIG LINE  MACD HIST  \\\n",
      "0  0.096265  0.073464  0.073464  ...    0.002798  0.003105  -0.000307   \n",
      "1  0.096715  0.073696  0.073805  ...    0.002757  0.002917  -0.000160   \n",
      "2  0.096975  0.073896  0.074099  ...    0.002345  0.002761  -0.000416   \n",
      "3  0.097269  0.074096  0.074401  ...    0.002082  0.002631  -0.000549   \n",
      "4  0.097594  0.074309  0.074711  ...    0.001940  0.002524  -0.000584   \n",
      "\n",
      "      BB UP    BB MID   BB DOWN        ADX  PRICE_CHANGE  close_to_open  \\\n",
      "0  0.110899  0.106070  0.101240  18.235241          Down      -0.000273   \n",
      "1  0.110397  0.105933  0.101468  18.425926          Down      -0.000273   \n",
      "2  0.110050  0.105659  0.101269  18.602990            Up      -0.004375   \n",
      "3  0.109946  0.105550  0.101154  18.767407            Up       0.001094   \n",
      "4  0.109799  0.105468  0.101137  19.612892          Down       0.001094   \n",
      "\n",
      "     return  \n",
      "0  0.997475  \n",
      "1  0.997469  \n",
      "2  0.959393  \n",
      "3  1.010581  \n",
      "4  1.010471  \n",
      "\n",
      "[5 rows x 23 columns]\n"
     ]
    }
   ],
   "source": [
    "ticker = pd.read_csv('Dataset_all_indicators.csv')\n",
    "ticker['close_to_open'] = ticker['Close'] - ticker['Open']\n",
    "ticker['return'] = ticker['Close']/ticker['Open']\n",
    "missing_values_count = 0\n",
    "missing_values_count += ticker.isnull().sum()\n",
    "print(missing_values_count)\n",
    "print(ticker.head())"
   ]
  },
  {
   "cell_type": "code",
   "execution_count": 115,
   "metadata": {},
   "outputs": [
    {
     "name": "stderr",
     "output_type": "stream",
     "text": [
      "C:\\Users\\ciara\\AppData\\Local\\Programs\\Python\\Python310\\lib\\site-packages\\sklearn\\preprocessing\\_label.py:115: DataConversionWarning: A column-vector y was passed when a 1d array was expected. Please change the shape of y to (n_samples, ), for example using ravel().\n",
      "  y = column_or_1d(y, warn=True)\n"
     ]
    }
   ],
   "source": [
    "from sklearn.decomposition import PCA\n",
    "from sklearn.preprocessing import LabelEncoder, StandardScaler\n",
    "from sklearn_pandas import DataFrameMapper\n",
    "\n",
    "\n",
    "x = ticker\n",
    "\n",
    "#mapper = DataFrameMapper([(y.columns, LabelEncoder())])\n",
    "#scaled_features = mapper.fit_transform(y.copy())\n",
    "#y = pd.DataFrame(scaled_features, index=y.index, columns=y.columns)\n",
    "\n",
    "#rint(y.value_counts())\n",
    "x.set_index('Date', inplace=True)\n",
    "\n",
    "mapper = DataFrameMapper([(x.columns.drop('PRICE_CHANGE','Date'), StandardScaler()),\n",
    "                          (['PRICE_CHANGE'], LabelEncoder())])\n",
    "scaled_features = mapper.fit_transform(x.copy())\n",
    "x = pd.DataFrame(scaled_features, index=x.index, columns=x.columns)"
   ]
  },
  {
   "cell_type": "code",
   "execution_count": 117,
   "metadata": {},
   "outputs": [
    {
     "name": "stdout",
     "output_type": "stream",
     "text": [
      "(8904, 10)\n"
     ]
    },
    {
     "data": {
      "image/png": "[encoded data removed]",
      "text/plain": [
       "<Figure size 432x288 with 2 Axes>"
      ]
     },
     "metadata": {
      "needs_background": "light"
     },
     "output_type": "display_data"
    }
   ],
   "source": [
    "del_feats = ['High','Low','Open','MA 50','EMA 50','MA 200','EMA 200','BB UP','BB MID','BB DOWN']\n",
    "for feat in del_feats:\n",
    "   x = x.drop(feat,axis=1) \n",
    "\n",
    "### Find the spearmans rank correlation between all features\n",
    "corr = x.corr(method =\"spearman\")\n",
    "\n",
    "### A limit of 0.5 removes those that possess no strong correlation with any other data\n",
    "spearmans_limit = 0.4\n",
    "\n",
    "### Removes columns besides PRICE CHANGE from dataset if they do not have a correlation with any other datapoint (removes itself from comparison)\n",
    "\n",
    "df_training_trimmed = x.drop([i for i,row in corr.iterrows() if (max(abs(row.drop(i,axis=0)))<spearmans_limit)],axis=1)\n",
    "corr_ected = df_training_trimmed.corr(method='spearman')\n",
    "#df_testing_x  = df_testing_x.drop([a for a in set(df_testing_x.columns) if a not in set(df_training_trimmed.columns)],axis=1)\n",
    "x = x.drop([a for a in set(x.columns) if a not in set(df_training_trimmed.columns)],axis=1)\n",
    "\n",
    "### Plot, print new column sizes\n",
    "print(x.shape)\n",
    "\n",
    "plot = sns.heatmap(corr_ected,cmap=\"RdBu_r\", vmin=-1, vmax=1)\n",
    "fig = plot.get_figure()\n",
    "#fig.savefig('correlation2.png')"
   ]
  },
  {
   "cell_type": "code",
   "execution_count": 120,
   "metadata": {},
   "outputs": [
    {
     "name": "stdout",
     "output_type": "stream",
     "text": [
      "      Close    Volume    RSI 14   STOCH K   STOCH D  MACD VALUE  SIG LINE  \\\n",
      "0  0.182812 -0.150985  0.455666  0.439950  0.426146    0.348607  0.241664   \n",
      "1  0.381774 -0.226952 -0.013877 -0.336569 -0.290925    0.466807  0.549400   \n",
      "2  0.041786 -0.000534 -0.037022 -0.094678 -0.325193   -0.030281  0.075174   \n",
      "3 -0.417088  0.762263  0.144651 -0.132346 -0.101542    0.314680  0.259672   \n",
      "4 -0.033532  0.167222  0.278566  0.215516  0.152735   -0.125803  0.170393   \n",
      "5  0.714306  0.545837 -0.353175  0.171395  0.158650   -0.051207 -0.047614   \n",
      "6 -0.122966 -0.007226  0.091208  0.068096  0.236576   -0.044017  0.097472   \n",
      "7  0.344408  0.136616  0.746084 -0.309416 -0.226625   -0.239343 -0.281839   \n",
      "8 -0.004913  0.005774  0.050882  0.700348 -0.679614    0.010498 -0.003327   \n",
      "\n",
      "   MACD HIST  PRICE_CHANGE  close_to_open  \n",
      "0   0.303698      0.178408       0.238757  \n",
      "1  -0.160616     -0.139058      -0.199370  \n",
      "2  -0.267985      0.653156       0.614143  \n",
      "3   0.169810      0.029315      -0.009758  \n",
      "4  -0.756797     -0.404330       0.206040  \n",
      "5  -0.014173      0.075422      -0.042082  \n",
      "6  -0.359895      0.592199      -0.651337  \n",
      "7   0.082723      0.031017      -0.120233  \n",
      "8   0.035790     -0.022975      -0.207510  \n",
      "[0.29901585 0.52773875 0.6551195  0.75620776 0.83945728 0.90540718\n",
      " 0.95561    0.9923617  1.        ]\n"
     ]
    }
   ],
   "source": [
    "# Principal Component Analysis\n",
    "sk_model = PCA(n_components=9)\n",
    "sk_model.fit_transform(x)\n",
    "print(pd.DataFrame(sk_model.components_,columns=x.columns))\n",
    "print(sk_model.explained_variance_ratio_.cumsum())"
   ]
  }
 ],
 "metadata": {
  "interpreter": {
   "hash": "27a6b3ccdd048312b2ec3aff763d11de1859e51daa83e3971113288705ee40d9"
  },
  "kernelspec": {
   "display_name": "Python 3.10.4 64-bit (windows store)",
   "language": "python",
   "name": "python3"
  },
  "language_info": {
   "codemirror_mode": {
    "name": "ipython",
    "version": 3
   },
   "file_extension": ".py",
   "mimetype": "text/x-python",
   "name": "python",
   "nbconvert_exporter": "python",
   "pygments_lexer": "ipython3",
   "version": "3.10.2"
  },
  "orig_nbformat": 4
 },
 "nbformat": 4,
 "nbformat_minor": 2
}
